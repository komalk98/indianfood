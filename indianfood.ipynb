{
  "nbformat": 4,
  "nbformat_minor": 0,
  "metadata": {
    "colab": {
      "name": "indianfood.ipynb",
      "provenance": [],
      "authorship_tag": "ABX9TyP+2GYpQoqqBwvZffcMF7+5",
      "include_colab_link": true
    },
    "kernelspec": {
      "name": "python3",
      "display_name": "Python 3"
    },
    "language_info": {
      "name": "python"
    }
  },
  "cells": [
    {
      "cell_type": "markdown",
      "metadata": {
        "id": "view-in-github",
        "colab_type": "text"
      },
      "source": [
        "<a href=\"https://colab.research.google.com/github/komalk98/indianfood/blob/main/indianfood.ipynb\" target=\"_parent\"><img src=\"https://colab.research.google.com/assets/colab-badge.svg\" alt=\"Open In Colab\"/></a>"
      ]
    },
    {
      "cell_type": "code",
      "execution_count": null,
      "metadata": {
        "id": "BsZfjXt7y22s"
      },
      "outputs": [],
      "source": [
        "import pandas as pd\n",
        "import numpy as np \n",
        "import plotly.express as px\n",
        "from plotly.offline import init_notebook_mode\n",
        "from matplotlib import pyplot as plt \n",
        "from wordcloud import wordcloud, ImageColorGenerator  "
      ]
    }
  ]
}